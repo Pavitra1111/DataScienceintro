{
 "cells": [
  {
   "cell_type": "markdown",
   "id": "d5aff93c-41d4-4a21-9298-96bb6478ee12",
   "metadata": {
    "tags": []
   },
   "source": [
    "# Data Science Tools and Ecosystem\n",
    "In this notebook, Data Science tools and ecosystem are summarized."
   ]
  },
  {
   "cell_type": "markdown",
   "id": "b67ff11f-7bcc-48e9-b5d0-0f8ad95cb7d3",
   "metadata": {
    "tags": []
   },
   "source": [
    "## Author \n",
    "Pavitra Ramakrishnan"
   ]
  },
  {
   "cell_type": "markdown",
   "id": "aa7b9b32-a738-4bd8-a97d-297099864d1d",
   "metadata": {},
   "source": [
    "Some of the popular languages that data scientists use are:\n",
    "1. Python\n",
    "2. R \n",
    "3. C++"
   ]
  },
  {
   "cell_type": "markdown",
   "id": "5fc543a2-009d-4f98-8598-addb1c769559",
   "metadata": {
    "tags": []
   },
   "source": [
    "# *Objectives*\n",
    "- List popular tools used in data science\n",
    "- Commercial tools used in data science \n",
    "- Popular R libraries \n",
    "- Syntax of R languages \n",
    "- Github"
   ]
  },
  {
   "cell_type": "markdown",
   "id": "8615ac91-7484-4281-a600-385dadab65ee",
   "metadata": {},
   "source": [
    "## Data Science Tools\n",
    "|Environment|Data Science Tools|\n",
    "|------|-------|\n",
    "|Data Visualization|PixieDust, Kibana|\n",
    "|Model Deployment|Seldon|\n",
    "|Model monitoring|ModelDB|"
   ]
  },
  {
   "cell_type": "markdown",
   "id": "64535ba9-837f-4a27-a279-5001a14e4907",
   "metadata": {},
   "source": [
    "### Below are a few examples of evaluating arithmetic expressions in python\n",
    "This is a simple arithmetic expression to multiply then add integers \n",
    "\n"
   ]
  },
  {
   "cell_type": "code",
   "execution_count": 1,
   "id": "ee7ec8f1-91ae-44f3-8001-8c2e47fb4903",
   "metadata": {
    "tags": []
   },
   "outputs": [
    {
     "name": "stdout",
     "output_type": "stream",
     "text": [
      "17\n"
     ]
    }
   ],
   "source": [
    "d= (3*4)+5\n",
    "print(d)\n"
   ]
  },
  {
   "cell_type": "markdown",
   "id": "4e08cce0-0b0e-4b7e-8f19-e27089e041c4",
   "metadata": {
    "tags": []
   },
   "source": [
    "### This will convert 200 minutes into hours by dividing by 60"
   ]
  },
  {
   "cell_type": "code",
   "execution_count": 4,
   "id": "5bd71d16-dbb1-4542-acf0-ae0d7482a938",
   "metadata": {
    "tags": []
   },
   "outputs": [
    {
     "name": "stdout",
     "output_type": "stream",
     "text": [
      "3.3333333333333335\n"
     ]
    }
   ],
   "source": [
    "print(200/60)"
   ]
  },
  {
   "cell_type": "code",
   "execution_count": null,
   "id": "87cff38d-2803-4732-915a-7246ab67258b",
   "metadata": {},
   "outputs": [],
   "source": []
  }
 ],
 "metadata": {
  "kernelspec": {
   "display_name": "Python",
   "language": "python",
   "name": "conda-env-python-py"
  },
  "language_info": {
   "codemirror_mode": {
    "name": "ipython",
    "version": 3
   },
   "file_extension": ".py",
   "mimetype": "text/x-python",
   "name": "python",
   "nbconvert_exporter": "python",
   "pygments_lexer": "ipython3",
   "version": "3.7.12"
  }
 },
 "nbformat": 4,
 "nbformat_minor": 5
}
